{
 "cells": [
  {
   "cell_type": "code",
   "execution_count": 1,
   "metadata": {},
   "outputs": [],
   "source": [
    "#importing libraries\n",
    "import numpy as np\n",
    "import pandas as pd\n",
    "import seaborn as sns\n",
    "import matplotlib.pyplot as plt\n",
    "sns.set()"
   ]
  },
  {
   "cell_type": "code",
   "execution_count": 2,
   "metadata": {},
   "outputs": [
    {
     "data": {
      "text/html": [
       "<div>\n",
       "<style scoped>\n",
       "    .dataframe tbody tr th:only-of-type {\n",
       "        vertical-align: middle;\n",
       "    }\n",
       "\n",
       "    .dataframe tbody tr th {\n",
       "        vertical-align: top;\n",
       "    }\n",
       "\n",
       "    .dataframe thead th {\n",
       "        text-align: right;\n",
       "    }\n",
       "</style>\n",
       "<table border=\"1\" class=\"dataframe\">\n",
       "  <thead>\n",
       "    <tr style=\"text-align: right;\">\n",
       "      <th></th>\n",
       "      <th>Id</th>\n",
       "      <th>MSSubClass</th>\n",
       "      <th>MSZoning</th>\n",
       "      <th>LotFrontage</th>\n",
       "      <th>LotArea</th>\n",
       "      <th>Street</th>\n",
       "      <th>Alley</th>\n",
       "      <th>LotShape</th>\n",
       "      <th>LandContour</th>\n",
       "      <th>Utilities</th>\n",
       "      <th>...</th>\n",
       "      <th>PoolArea</th>\n",
       "      <th>PoolQC</th>\n",
       "      <th>Fence</th>\n",
       "      <th>MiscFeature</th>\n",
       "      <th>MiscVal</th>\n",
       "      <th>MoSold</th>\n",
       "      <th>YrSold</th>\n",
       "      <th>SaleType</th>\n",
       "      <th>SaleCondition</th>\n",
       "      <th>SalePrice</th>\n",
       "    </tr>\n",
       "  </thead>\n",
       "  <tbody>\n",
       "    <tr>\n",
       "      <th>0</th>\n",
       "      <td>1</td>\n",
       "      <td>60</td>\n",
       "      <td>RL</td>\n",
       "      <td>65.0</td>\n",
       "      <td>8450</td>\n",
       "      <td>Pave</td>\n",
       "      <td>NaN</td>\n",
       "      <td>Reg</td>\n",
       "      <td>Lvl</td>\n",
       "      <td>AllPub</td>\n",
       "      <td>...</td>\n",
       "      <td>0</td>\n",
       "      <td>NaN</td>\n",
       "      <td>NaN</td>\n",
       "      <td>NaN</td>\n",
       "      <td>0</td>\n",
       "      <td>2</td>\n",
       "      <td>2008</td>\n",
       "      <td>WD</td>\n",
       "      <td>Normal</td>\n",
       "      <td>208500</td>\n",
       "    </tr>\n",
       "    <tr>\n",
       "      <th>1</th>\n",
       "      <td>2</td>\n",
       "      <td>20</td>\n",
       "      <td>RL</td>\n",
       "      <td>80.0</td>\n",
       "      <td>9600</td>\n",
       "      <td>Pave</td>\n",
       "      <td>NaN</td>\n",
       "      <td>Reg</td>\n",
       "      <td>Lvl</td>\n",
       "      <td>AllPub</td>\n",
       "      <td>...</td>\n",
       "      <td>0</td>\n",
       "      <td>NaN</td>\n",
       "      <td>NaN</td>\n",
       "      <td>NaN</td>\n",
       "      <td>0</td>\n",
       "      <td>5</td>\n",
       "      <td>2007</td>\n",
       "      <td>WD</td>\n",
       "      <td>Normal</td>\n",
       "      <td>181500</td>\n",
       "    </tr>\n",
       "    <tr>\n",
       "      <th>2</th>\n",
       "      <td>3</td>\n",
       "      <td>60</td>\n",
       "      <td>RL</td>\n",
       "      <td>68.0</td>\n",
       "      <td>11250</td>\n",
       "      <td>Pave</td>\n",
       "      <td>NaN</td>\n",
       "      <td>IR1</td>\n",
       "      <td>Lvl</td>\n",
       "      <td>AllPub</td>\n",
       "      <td>...</td>\n",
       "      <td>0</td>\n",
       "      <td>NaN</td>\n",
       "      <td>NaN</td>\n",
       "      <td>NaN</td>\n",
       "      <td>0</td>\n",
       "      <td>9</td>\n",
       "      <td>2008</td>\n",
       "      <td>WD</td>\n",
       "      <td>Normal</td>\n",
       "      <td>223500</td>\n",
       "    </tr>\n",
       "    <tr>\n",
       "      <th>3</th>\n",
       "      <td>4</td>\n",
       "      <td>70</td>\n",
       "      <td>RL</td>\n",
       "      <td>60.0</td>\n",
       "      <td>9550</td>\n",
       "      <td>Pave</td>\n",
       "      <td>NaN</td>\n",
       "      <td>IR1</td>\n",
       "      <td>Lvl</td>\n",
       "      <td>AllPub</td>\n",
       "      <td>...</td>\n",
       "      <td>0</td>\n",
       "      <td>NaN</td>\n",
       "      <td>NaN</td>\n",
       "      <td>NaN</td>\n",
       "      <td>0</td>\n",
       "      <td>2</td>\n",
       "      <td>2006</td>\n",
       "      <td>WD</td>\n",
       "      <td>Abnorml</td>\n",
       "      <td>140000</td>\n",
       "    </tr>\n",
       "    <tr>\n",
       "      <th>4</th>\n",
       "      <td>5</td>\n",
       "      <td>60</td>\n",
       "      <td>RL</td>\n",
       "      <td>84.0</td>\n",
       "      <td>14260</td>\n",
       "      <td>Pave</td>\n",
       "      <td>NaN</td>\n",
       "      <td>IR1</td>\n",
       "      <td>Lvl</td>\n",
       "      <td>AllPub</td>\n",
       "      <td>...</td>\n",
       "      <td>0</td>\n",
       "      <td>NaN</td>\n",
       "      <td>NaN</td>\n",
       "      <td>NaN</td>\n",
       "      <td>0</td>\n",
       "      <td>12</td>\n",
       "      <td>2008</td>\n",
       "      <td>WD</td>\n",
       "      <td>Normal</td>\n",
       "      <td>250000</td>\n",
       "    </tr>\n",
       "  </tbody>\n",
       "</table>\n",
       "<p>5 rows × 81 columns</p>\n",
       "</div>"
      ],
      "text/plain": [
       "   Id  MSSubClass MSZoning  LotFrontage  LotArea Street Alley LotShape  \\\n",
       "0   1          60       RL         65.0     8450   Pave   NaN      Reg   \n",
       "1   2          20       RL         80.0     9600   Pave   NaN      Reg   \n",
       "2   3          60       RL         68.0    11250   Pave   NaN      IR1   \n",
       "3   4          70       RL         60.0     9550   Pave   NaN      IR1   \n",
       "4   5          60       RL         84.0    14260   Pave   NaN      IR1   \n",
       "\n",
       "  LandContour Utilities  ... PoolArea PoolQC Fence MiscFeature MiscVal MoSold  \\\n",
       "0         Lvl    AllPub  ...        0    NaN   NaN         NaN       0      2   \n",
       "1         Lvl    AllPub  ...        0    NaN   NaN         NaN       0      5   \n",
       "2         Lvl    AllPub  ...        0    NaN   NaN         NaN       0      9   \n",
       "3         Lvl    AllPub  ...        0    NaN   NaN         NaN       0      2   \n",
       "4         Lvl    AllPub  ...        0    NaN   NaN         NaN       0     12   \n",
       "\n",
       "  YrSold  SaleType  SaleCondition  SalePrice  \n",
       "0   2008        WD         Normal     208500  \n",
       "1   2007        WD         Normal     181500  \n",
       "2   2008        WD         Normal     223500  \n",
       "3   2006        WD        Abnorml     140000  \n",
       "4   2008        WD         Normal     250000  \n",
       "\n",
       "[5 rows x 81 columns]"
      ]
     },
     "execution_count": 2,
     "metadata": {},
     "output_type": "execute_result"
    }
   ],
   "source": [
    "#importing data from csv file usinf pandas\n",
    "train=pd.read_csv('train.csv')\n",
    "test=pd.read_csv('test.csv')\n",
    "\n",
    "train.head()"
   ]
  },
  {
   "cell_type": "code",
   "execution_count": 91,
   "metadata": {},
   "outputs": [
    {
     "name": "stdout",
     "output_type": "stream",
     "text": [
      "1460\n"
     ]
    }
   ],
   "source": [
    "#storing number of row of data\n",
    "trainrow=train.shape[0]\n",
    "print(trainrow)\n",
    "testrow=test.shape[0]"
   ]
  },
  {
   "cell_type": "code",
   "execution_count": 4,
   "metadata": {},
   "outputs": [],
   "source": [
    "#copying id data\n",
    "testids=test['Id'].copy()"
   ]
  },
  {
   "cell_type": "code",
   "execution_count": 5,
   "metadata": {},
   "outputs": [],
   "source": [
    "#copying sales priece\n",
    "y_train=train['SalePrice'].copy()"
   ]
  },
  {
   "cell_type": "code",
   "execution_count": 6,
   "metadata": {},
   "outputs": [],
   "source": [
    "#combining train and test data\n",
    "data=pd.concat((train,test)).reset_index(drop=True)\n",
    "data=data.drop('SalePrice',1)"
   ]
  },
  {
   "cell_type": "code",
   "execution_count": 7,
   "metadata": {
    "scrolled": true
   },
   "outputs": [],
   "source": [
    "#dropping id columns\n",
    "data=data.drop('Id',axis=1)"
   ]
  },
  {
   "cell_type": "markdown",
   "metadata": {},
   "source": [
    "# Missing Data"
   ]
  },
  {
   "cell_type": "code",
   "execution_count": 8,
   "metadata": {
    "scrolled": false
   },
   "outputs": [
    {
     "data": {
      "text/plain": [
       "PoolQC          2909\n",
       "MiscFeature     2814\n",
       "Alley           2721\n",
       "Fence           2348\n",
       "FireplaceQu     1420\n",
       "LotFrontage      486\n",
       "GarageCond       159\n",
       "GarageQual       159\n",
       "GarageYrBlt      159\n",
       "GarageFinish     159\n",
       "GarageType       157\n",
       "BsmtCond          82\n",
       "BsmtExposure      82\n",
       "BsmtQual          81\n",
       "BsmtFinType2      80\n",
       "BsmtFinType1      79\n",
       "MasVnrType        24\n",
       "MasVnrArea        23\n",
       "MSZoning           4\n",
       "BsmtHalfBath       2\n",
       "Utilities          2\n",
       "Functional         2\n",
       "BsmtFullBath       2\n",
       "BsmtFinSF2         1\n",
       "BsmtFinSF1         1\n",
       "Exterior2nd        1\n",
       "BsmtUnfSF          1\n",
       "TotalBsmtSF        1\n",
       "Exterior1st        1\n",
       "SaleType           1\n",
       "Electrical         1\n",
       "KitchenQual        1\n",
       "GarageArea         1\n",
       "GarageCars         1\n",
       "dtype: int64"
      ]
     },
     "execution_count": 8,
     "metadata": {},
     "output_type": "execute_result"
    }
   ],
   "source": [
    "#checking missing data\n",
    "missing=data.isnull().sum().sort_values(ascending=False)\n",
    "missing=missing.drop(missing[missing==0].index)\n",
    "missing"
   ]
  },
  {
   "cell_type": "code",
   "execution_count": 9,
   "metadata": {},
   "outputs": [
    {
     "data": {
      "text/plain": [
       "array(['NA', 'Ex', 'Fa', 'Gd'], dtype=object)"
      ]
     },
     "execution_count": 9,
     "metadata": {},
     "output_type": "execute_result"
    }
   ],
   "source": [
    "#PoolQC is quality of pool but mostly house does not have pool so putting NA\n",
    "data['PoolQC']=data['PoolQC'].fillna('NA')\n",
    "data['PoolQC'].unique()"
   ]
  },
  {
   "cell_type": "code",
   "execution_count": 10,
   "metadata": {},
   "outputs": [
    {
     "data": {
      "text/plain": [
       "array(['NA', 'Shed', 'Gar2', 'Othr', 'TenC'], dtype=object)"
      ]
     },
     "execution_count": 10,
     "metadata": {},
     "output_type": "execute_result"
    }
   ],
   "source": [
    "#MiscFeature: mostly house does not have it so putting NA\n",
    "data['MiscFeature']=data['MiscFeature'].fillna('NA')\n",
    "data['MiscFeature'].unique()"
   ]
  },
  {
   "cell_type": "code",
   "execution_count": 11,
   "metadata": {},
   "outputs": [
    {
     "data": {
      "text/plain": [
       "array(['NA', 'TA', 'Gd', 'Fa', 'Ex', 'Po'], dtype=object)"
      ]
     },
     "execution_count": 11,
     "metadata": {},
     "output_type": "execute_result"
    }
   ],
   "source": [
    "#Alley,Fence,FireplaceQu: mostly house does not have it so putting NA\n",
    "data['Alley']=data['Alley'].fillna('NA')\n",
    "data['Alley'].unique()\n",
    "\n",
    "data['Fence']=data['Fence'].fillna('NA')\n",
    "data['Fence'].unique()\n",
    "\n",
    "data['FireplaceQu']=data['FireplaceQu'].fillna('NA')\n",
    "data['FireplaceQu'].unique()"
   ]
  },
  {
   "cell_type": "code",
   "execution_count": 12,
   "metadata": {},
   "outputs": [],
   "source": [
    "#LotFrontage: all house have linear connected feet so putting most mean value\n",
    "data['LotFrontage']=data['LotFrontage'].fillna(data['LotFrontage'].dropna().mean())"
   ]
  },
  {
   "cell_type": "code",
   "execution_count": 13,
   "metadata": {},
   "outputs": [
    {
     "data": {
      "text/plain": [
       "array(['RFn', 'Unf', 'Fin', 'NA'], dtype=object)"
      ]
     },
     "execution_count": 13,
     "metadata": {},
     "output_type": "execute_result"
    }
   ],
   "source": [
    "#GarageCond,GarageQual,GarageFinish\n",
    "data['GarageCond']=data['GarageCond'].fillna('NA')\n",
    "data['GarageCond'].unique()\n",
    "\n",
    "data['GarageQual']=data['GarageQual'].fillna('NA')\n",
    "data['GarageQual'].unique()\n",
    "\n",
    "data['GarageFinish']=data['GarageFinish'].fillna('NA')\n",
    "data['GarageFinish'].unique()"
   ]
  },
  {
   "cell_type": "code",
   "execution_count": 14,
   "metadata": {},
   "outputs": [],
   "source": [
    "#GarageYrBlt,GarageType,GarageArea,GarageCars putting 0\n",
    "data['GarageYrBlt']=data['GarageYrBlt'].fillna(0)\n",
    "data['GarageType']=data['GarageType'].fillna(0)\n",
    "data['GarageArea']=data['GarageArea'].fillna(0)\n",
    "data['GarageCars']=data['GarageCars'].fillna(0)"
   ]
  },
  {
   "cell_type": "code",
   "execution_count": 15,
   "metadata": {},
   "outputs": [],
   "source": [
    "#BsmtExposure,BsmtCond,BsmtQual,BsmtFinType2,BsmtFinType1 \n",
    "data['BsmtExposure']=data['BsmtExposure'].fillna('NA')\n",
    "data['BsmtCond']=data['BsmtCond'].fillna('NA')\n",
    "data['BsmtQual']=data['BsmtQual'].fillna('NA')\n",
    "data['BsmtFinType2']=data['BsmtFinType2'].fillna('NA')\n",
    "data['BsmtFinType1']=data['BsmtFinType1'].fillna('NA')\n",
    "\n",
    "#BsmtFinSF1,BsmtFinSF2 \n",
    "data['BsmtFinSF1']=data['BsmtFinSF1'].fillna(0)\n",
    "data['BsmtFinSF2']=data['BsmtFinSF2'].fillna(0)"
   ]
  },
  {
   "cell_type": "code",
   "execution_count": 16,
   "metadata": {},
   "outputs": [],
   "source": [
    "#MasVnrType,MasVnrArea\n",
    "data['MasVnrType']=data['MasVnrType'].fillna('NA')\n",
    "data['MasVnrArea']=data['MasVnrArea'].fillna(0)"
   ]
  },
  {
   "cell_type": "code",
   "execution_count": 17,
   "metadata": {},
   "outputs": [],
   "source": [
    "#MSZoning \n",
    "data['MSZoning']=data['MSZoning'].fillna(data['MSZoning'].dropna().sort_values().index[0])"
   ]
  },
  {
   "cell_type": "code",
   "execution_count": 18,
   "metadata": {},
   "outputs": [],
   "source": [
    "#Utilities\n",
    "data['Utilities']=data['Utilities'].fillna(data['Utilities'].dropna().sort_values().index[0])"
   ]
  },
  {
   "cell_type": "code",
   "execution_count": 19,
   "metadata": {},
   "outputs": [],
   "source": [
    "#BsmtFullBath\n",
    "data['BsmtFullBath']=data['BsmtFullBath'].fillna(0)\n",
    "\n",
    "#Functional\n",
    "data['Functional']=data['Functional'].fillna(data['Functional'].dropna().sort_values().index[0])\n",
    "\n",
    "#BsmtHalfBath\n",
    "data['BsmtHalfBath']=data['BsmtHalfBath'].fillna(0)\n",
    "\n",
    "#BsmtUnfSF\n",
    "data['BsmtUnfSF']=data['BsmtUnfSF'].fillna(0)"
   ]
  },
  {
   "cell_type": "code",
   "execution_count": 20,
   "metadata": {},
   "outputs": [],
   "source": [
    "#Exterior2nd\n",
    "data['Exterior2nd']=data['Exterior2nd'].fillna('NA')\n",
    "\n",
    "#Exterior1st\n",
    "data['Exterior1st']=data['Exterior1st'].fillna('NA')"
   ]
  },
  {
   "cell_type": "code",
   "execution_count": 21,
   "metadata": {},
   "outputs": [],
   "source": [
    "#TotalBsmtSF\n",
    "data['TotalBsmtSF']=data['TotalBsmtSF'].fillna(0)"
   ]
  },
  {
   "cell_type": "code",
   "execution_count": 22,
   "metadata": {},
   "outputs": [],
   "source": [
    "#SaleType\n",
    "data['SaleType']=data['SaleType'].fillna(data['SaleType'].dropna().sort_values().index[0])"
   ]
  },
  {
   "cell_type": "code",
   "execution_count": 23,
   "metadata": {},
   "outputs": [],
   "source": [
    "#Electrical\n",
    "data['Electrical']=data['Electrical'].fillna(data['Electrical'].dropna().sort_values().index[0])"
   ]
  },
  {
   "cell_type": "code",
   "execution_count": 24,
   "metadata": {},
   "outputs": [],
   "source": [
    "#KitchenQual\n",
    "data['KitchenQual']=data['KitchenQual'].fillna(data['KitchenQual'].dropna().sort_values().index[0])"
   ]
  },
  {
   "cell_type": "code",
   "execution_count": 25,
   "metadata": {},
   "outputs": [
    {
     "data": {
      "text/plain": [
       "Series([], dtype: int64)"
      ]
     },
     "execution_count": 25,
     "metadata": {},
     "output_type": "execute_result"
    }
   ],
   "source": [
    "#lets check any missing remain\n",
    "missing=data.isnull().sum().sort_values(ascending=False)\n",
    "missing=missing.drop(missing[missing==0].index)\n",
    "missing"
   ]
  },
  {
   "cell_type": "code",
   "execution_count": 26,
   "metadata": {},
   "outputs": [],
   "source": [
    "#great no missing data"
   ]
  },
  {
   "cell_type": "markdown",
   "metadata": {},
   "source": [
    "# Feature Engineering"
   ]
  },
  {
   "cell_type": "code",
   "execution_count": 27,
   "metadata": {
    "scrolled": false
   },
   "outputs": [
    {
     "name": "stdout",
     "output_type": "stream",
     "text": [
      "SalePrice        1.00\n",
      "OverallQual      0.79\n",
      "GrLivArea        0.71\n",
      "GarageCars       0.64\n",
      "GarageArea       0.62\n",
      "TotalBsmtSF      0.61\n",
      "1stFlrSF         0.61\n",
      "FullBath         0.56\n",
      "TotRmsAbvGrd     0.53\n",
      "YearBuilt        0.52\n",
      "YearRemodAdd     0.51\n",
      "GarageYrBlt      0.49\n",
      "MasVnrArea       0.48\n",
      "Fireplaces       0.47\n",
      "BsmtFinSF1       0.39\n",
      "LotFrontage      0.35\n",
      "WoodDeckSF       0.32\n",
      "2ndFlrSF         0.32\n",
      "OpenPorchSF      0.32\n",
      "HalfBath         0.28\n",
      "LotArea          0.26\n",
      "BsmtFullBath     0.23\n",
      "BsmtUnfSF        0.21\n",
      "BedroomAbvGr     0.17\n",
      "ScreenPorch      0.11\n",
      "PoolArea         0.09\n",
      "MoSold           0.05\n",
      "3SsnPorch        0.04\n",
      "BsmtFinSF2      -0.01\n",
      "BsmtHalfBath    -0.02\n",
      "MiscVal         -0.02\n",
      "LowQualFinSF    -0.03\n",
      "YrSold          -0.03\n",
      "OverallCond     -0.08\n",
      "MSSubClass      -0.08\n",
      "EnclosedPorch   -0.13\n",
      "KitchenAbvGr    -0.14\n",
      "Name: SalePrice, dtype: float64\n"
     ]
    }
   ],
   "source": [
    "#lets check correlation between SalePrice and other features\n",
    "train=train.drop('Id',1)\n",
    "corr=train.corr().sort_values(by='SalePrice',ascending=False).round(2)\n",
    "print(corr['SalePrice'])"
   ]
  },
  {
   "cell_type": "code",
   "execution_count": 28,
   "metadata": {},
   "outputs": [
    {
     "data": {
      "image/png": "[encoded data removed]",
      "text/plain": [
       "<Figure size 864x648 with 2 Axes>"
      ]
     },
     "metadata": {},
     "output_type": "display_data"
    }
   ],
   "source": [
    "#heatmap\n",
    "plt.subplots(figsize=(12, 9))\n",
    "sns.heatmap(corr, vmax=.8, square=True);"
   ]
  },
  {
   "cell_type": "code",
   "execution_count": 29,
   "metadata": {},
   "outputs": [
    {
     "data": {
      "image/png": "[encoded data removed]",
      "text/plain": [
       "<Figure size 432x288 with 2 Axes>"
      ]
     },
     "metadata": {},
     "output_type": "display_data"
    }
   ],
   "source": [
    "#now lets create heatmap for top 10 correlated features\n",
    "cols =corr['SalePrice'].head(10).index\n",
    "cm = np.corrcoef(train[cols].values.T)\n",
    "sns.set(font_scale=1)\n",
    "hm = sns.heatmap(cm, annot=True, yticklabels=cols.values, xticklabels=cols.values)\n",
    "plt.show()"
   ]
  },
  {
   "cell_type": "code",
   "execution_count": 30,
   "metadata": {},
   "outputs": [],
   "source": [
    "#lets add 1stFlrSF and 2ndFlrSF and create new feature floorfeet\n",
    "data['Floorfeet']=data['1stFlrSF']+data['2ndFlrSF']\n",
    "data=data.drop(['1stFlrSF','2ndFlrSF'],1)"
   ]
  },
  {
   "cell_type": "code",
   "execution_count": 31,
   "metadata": {},
   "outputs": [],
   "source": [
    "def create_band(feature,size):\n",
    "    data[feature+\"_band\"]=pd.cut(data[feature],size)\n",
    "    return data[feature+\"_band\"].unique()\n",
    "\n",
    "def define_intervals(value,feature,minval=0,maxval=0):\n",
    "    data.loc[(data[feature]>minval) & (data[feature]<=maxval),feature]=value"
   ]
  },
  {
   "cell_type": "code",
   "execution_count": 32,
   "metadata": {
    "scrolled": true
   },
   "outputs": [
    {
     "data": {
      "text/plain": [
       "[(1395.6, 2457.2], (328.692, 1395.6], (2457.2, 3518.8], (4580.4, 5642.0], (3518.8, 4580.4]]\n",
       "Categories (5, interval[float64]): [(328.692, 1395.6] < (1395.6, 2457.2] < (2457.2, 3518.8] < (3518.8, 4580.4] < (4580.4, 5642.0]]"
      ]
     },
     "execution_count": 32,
     "metadata": {},
     "output_type": "execute_result"
    }
   ],
   "source": [
    "create_band('Floorfeet',5)"
   ]
  },
  {
   "cell_type": "code",
   "execution_count": 33,
   "metadata": {},
   "outputs": [
    {
     "data": {
      "text/html": [
       "<div>\n",
       "<style scoped>\n",
       "    .dataframe tbody tr th:only-of-type {\n",
       "        vertical-align: middle;\n",
       "    }\n",
       "\n",
       "    .dataframe tbody tr th {\n",
       "        vertical-align: top;\n",
       "    }\n",
       "\n",
       "    .dataframe thead th {\n",
       "        text-align: right;\n",
       "    }\n",
       "</style>\n",
       "<table border=\"1\" class=\"dataframe\">\n",
       "  <thead>\n",
       "    <tr style=\"text-align: right;\">\n",
       "      <th></th>\n",
       "      <th>MSSubClass</th>\n",
       "      <th>MSZoning</th>\n",
       "      <th>LotFrontage</th>\n",
       "      <th>LotArea</th>\n",
       "      <th>Street</th>\n",
       "      <th>Alley</th>\n",
       "      <th>LotShape</th>\n",
       "      <th>LandContour</th>\n",
       "      <th>Utilities</th>\n",
       "      <th>LotConfig</th>\n",
       "      <th>...</th>\n",
       "      <th>MiscVal</th>\n",
       "      <th>MoSold</th>\n",
       "      <th>YrSold</th>\n",
       "      <th>SaleType</th>\n",
       "      <th>SaleCondition</th>\n",
       "      <th>Floorfeet_1</th>\n",
       "      <th>Floorfeet_2</th>\n",
       "      <th>Floorfeet_3</th>\n",
       "      <th>Floorfeet_4</th>\n",
       "      <th>Floorfeet_5</th>\n",
       "    </tr>\n",
       "  </thead>\n",
       "  <tbody>\n",
       "    <tr>\n",
       "      <th>0</th>\n",
       "      <td>60</td>\n",
       "      <td>RL</td>\n",
       "      <td>65.0</td>\n",
       "      <td>8450</td>\n",
       "      <td>Pave</td>\n",
       "      <td>NA</td>\n",
       "      <td>Reg</td>\n",
       "      <td>Lvl</td>\n",
       "      <td>AllPub</td>\n",
       "      <td>Inside</td>\n",
       "      <td>...</td>\n",
       "      <td>0</td>\n",
       "      <td>2</td>\n",
       "      <td>2008</td>\n",
       "      <td>WD</td>\n",
       "      <td>Normal</td>\n",
       "      <td>0</td>\n",
       "      <td>1</td>\n",
       "      <td>0</td>\n",
       "      <td>0</td>\n",
       "      <td>0</td>\n",
       "    </tr>\n",
       "    <tr>\n",
       "      <th>1</th>\n",
       "      <td>20</td>\n",
       "      <td>RL</td>\n",
       "      <td>80.0</td>\n",
       "      <td>9600</td>\n",
       "      <td>Pave</td>\n",
       "      <td>NA</td>\n",
       "      <td>Reg</td>\n",
       "      <td>Lvl</td>\n",
       "      <td>AllPub</td>\n",
       "      <td>FR2</td>\n",
       "      <td>...</td>\n",
       "      <td>0</td>\n",
       "      <td>5</td>\n",
       "      <td>2007</td>\n",
       "      <td>WD</td>\n",
       "      <td>Normal</td>\n",
       "      <td>1</td>\n",
       "      <td>0</td>\n",
       "      <td>0</td>\n",
       "      <td>0</td>\n",
       "      <td>0</td>\n",
       "    </tr>\n",
       "    <tr>\n",
       "      <th>2</th>\n",
       "      <td>60</td>\n",
       "      <td>RL</td>\n",
       "      <td>68.0</td>\n",
       "      <td>11250</td>\n",
       "      <td>Pave</td>\n",
       "      <td>NA</td>\n",
       "      <td>IR1</td>\n",
       "      <td>Lvl</td>\n",
       "      <td>AllPub</td>\n",
       "      <td>Inside</td>\n",
       "      <td>...</td>\n",
       "      <td>0</td>\n",
       "      <td>9</td>\n",
       "      <td>2008</td>\n",
       "      <td>WD</td>\n",
       "      <td>Normal</td>\n",
       "      <td>0</td>\n",
       "      <td>1</td>\n",
       "      <td>0</td>\n",
       "      <td>0</td>\n",
       "      <td>0</td>\n",
       "    </tr>\n",
       "    <tr>\n",
       "      <th>3</th>\n",
       "      <td>70</td>\n",
       "      <td>RL</td>\n",
       "      <td>60.0</td>\n",
       "      <td>9550</td>\n",
       "      <td>Pave</td>\n",
       "      <td>NA</td>\n",
       "      <td>IR1</td>\n",
       "      <td>Lvl</td>\n",
       "      <td>AllPub</td>\n",
       "      <td>Corner</td>\n",
       "      <td>...</td>\n",
       "      <td>0</td>\n",
       "      <td>2</td>\n",
       "      <td>2006</td>\n",
       "      <td>WD</td>\n",
       "      <td>Abnorml</td>\n",
       "      <td>0</td>\n",
       "      <td>1</td>\n",
       "      <td>0</td>\n",
       "      <td>0</td>\n",
       "      <td>0</td>\n",
       "    </tr>\n",
       "    <tr>\n",
       "      <th>4</th>\n",
       "      <td>60</td>\n",
       "      <td>RL</td>\n",
       "      <td>84.0</td>\n",
       "      <td>14260</td>\n",
       "      <td>Pave</td>\n",
       "      <td>NA</td>\n",
       "      <td>IR1</td>\n",
       "      <td>Lvl</td>\n",
       "      <td>AllPub</td>\n",
       "      <td>FR2</td>\n",
       "      <td>...</td>\n",
       "      <td>0</td>\n",
       "      <td>12</td>\n",
       "      <td>2008</td>\n",
       "      <td>WD</td>\n",
       "      <td>Normal</td>\n",
       "      <td>0</td>\n",
       "      <td>1</td>\n",
       "      <td>0</td>\n",
       "      <td>0</td>\n",
       "      <td>0</td>\n",
       "    </tr>\n",
       "  </tbody>\n",
       "</table>\n",
       "<p>5 rows × 82 columns</p>\n",
       "</div>"
      ],
      "text/plain": [
       "   MSSubClass MSZoning  LotFrontage  LotArea Street Alley LotShape  \\\n",
       "0          60       RL         65.0     8450   Pave    NA      Reg   \n",
       "1          20       RL         80.0     9600   Pave    NA      Reg   \n",
       "2          60       RL         68.0    11250   Pave    NA      IR1   \n",
       "3          70       RL         60.0     9550   Pave    NA      IR1   \n",
       "4          60       RL         84.0    14260   Pave    NA      IR1   \n",
       "\n",
       "  LandContour Utilities LotConfig  ... MiscVal MoSold YrSold SaleType  \\\n",
       "0         Lvl    AllPub    Inside  ...       0      2   2008       WD   \n",
       "1         Lvl    AllPub       FR2  ...       0      5   2007       WD   \n",
       "2         Lvl    AllPub    Inside  ...       0      9   2008       WD   \n",
       "3         Lvl    AllPub    Corner  ...       0      2   2006       WD   \n",
       "4         Lvl    AllPub       FR2  ...       0     12   2008       WD   \n",
       "\n",
       "  SaleCondition Floorfeet_1  Floorfeet_2  Floorfeet_3  Floorfeet_4  \\\n",
       "0        Normal           0            1            0            0   \n",
       "1        Normal           1            0            0            0   \n",
       "2        Normal           0            1            0            0   \n",
       "3       Abnorml           0            1            0            0   \n",
       "4        Normal           0            1            0            0   \n",
       "\n",
       "   Floorfeet_5  \n",
       "0            0  \n",
       "1            0  \n",
       "2            0  \n",
       "3            0  \n",
       "4            0  \n",
       "\n",
       "[5 rows x 82 columns]"
      ]
     },
     "execution_count": 33,
     "metadata": {},
     "output_type": "execute_result"
    }
   ],
   "source": [
    "define_intervals(value=1,feature='Floorfeet',minval=328.692,maxval=1395.6)\n",
    "define_intervals(value=2,feature='Floorfeet',minval=1395.6,maxval=2457.2)\n",
    "define_intervals(value=3,feature='Floorfeet',minval=2457.2,maxval=3518.8)\n",
    "define_intervals(value=4,feature='Floorfeet',minval=3518.8,maxval=4580.4)\n",
    "define_intervals(value=5,feature='Floorfeet',minval=4580.4,maxval=5642.0)\n",
    "data=data.drop('Floorfeet_band',1)\n",
    "data=pd.get_dummies(data=data,columns=['Floorfeet'],prefix='Floorfeet')\n",
    "data.head()"
   ]
  },
  {
   "cell_type": "code",
   "execution_count": 34,
   "metadata": {},
   "outputs": [
    {
     "data": {
      "text/html": [
       "<div>\n",
       "<style scoped>\n",
       "    .dataframe tbody tr th:only-of-type {\n",
       "        vertical-align: middle;\n",
       "    }\n",
       "\n",
       "    .dataframe tbody tr th {\n",
       "        vertical-align: top;\n",
       "    }\n",
       "\n",
       "    .dataframe thead th {\n",
       "        text-align: right;\n",
       "    }\n",
       "</style>\n",
       "<table border=\"1\" class=\"dataframe\">\n",
       "  <thead>\n",
       "    <tr style=\"text-align: right;\">\n",
       "      <th></th>\n",
       "      <th>LotFrontage</th>\n",
       "      <th>LotArea</th>\n",
       "      <th>Street</th>\n",
       "      <th>Alley</th>\n",
       "      <th>LotShape</th>\n",
       "      <th>LandContour</th>\n",
       "      <th>Utilities</th>\n",
       "      <th>LotConfig</th>\n",
       "      <th>LandSlope</th>\n",
       "      <th>Neighborhood</th>\n",
       "      <th>...</th>\n",
       "      <th>MSSubClass_150</th>\n",
       "      <th>MSSubClass_160</th>\n",
       "      <th>MSSubClass_180</th>\n",
       "      <th>MSSubClass_190</th>\n",
       "      <th>MSZoning_1279</th>\n",
       "      <th>MSZoning_C (all)</th>\n",
       "      <th>MSZoning_FV</th>\n",
       "      <th>MSZoning_RH</th>\n",
       "      <th>MSZoning_RL</th>\n",
       "      <th>MSZoning_RM</th>\n",
       "    </tr>\n",
       "  </thead>\n",
       "  <tbody>\n",
       "    <tr>\n",
       "      <th>0</th>\n",
       "      <td>65.0</td>\n",
       "      <td>8450</td>\n",
       "      <td>Pave</td>\n",
       "      <td>NA</td>\n",
       "      <td>Reg</td>\n",
       "      <td>Lvl</td>\n",
       "      <td>AllPub</td>\n",
       "      <td>Inside</td>\n",
       "      <td>Gtl</td>\n",
       "      <td>CollgCr</td>\n",
       "      <td>...</td>\n",
       "      <td>0</td>\n",
       "      <td>0</td>\n",
       "      <td>0</td>\n",
       "      <td>0</td>\n",
       "      <td>0</td>\n",
       "      <td>0</td>\n",
       "      <td>0</td>\n",
       "      <td>0</td>\n",
       "      <td>1</td>\n",
       "      <td>0</td>\n",
       "    </tr>\n",
       "    <tr>\n",
       "      <th>1</th>\n",
       "      <td>80.0</td>\n",
       "      <td>9600</td>\n",
       "      <td>Pave</td>\n",
       "      <td>NA</td>\n",
       "      <td>Reg</td>\n",
       "      <td>Lvl</td>\n",
       "      <td>AllPub</td>\n",
       "      <td>FR2</td>\n",
       "      <td>Gtl</td>\n",
       "      <td>Veenker</td>\n",
       "      <td>...</td>\n",
       "      <td>0</td>\n",
       "      <td>0</td>\n",
       "      <td>0</td>\n",
       "      <td>0</td>\n",
       "      <td>0</td>\n",
       "      <td>0</td>\n",
       "      <td>0</td>\n",
       "      <td>0</td>\n",
       "      <td>1</td>\n",
       "      <td>0</td>\n",
       "    </tr>\n",
       "    <tr>\n",
       "      <th>2</th>\n",
       "      <td>68.0</td>\n",
       "      <td>11250</td>\n",
       "      <td>Pave</td>\n",
       "      <td>NA</td>\n",
       "      <td>IR1</td>\n",
       "      <td>Lvl</td>\n",
       "      <td>AllPub</td>\n",
       "      <td>Inside</td>\n",
       "      <td>Gtl</td>\n",
       "      <td>CollgCr</td>\n",
       "      <td>...</td>\n",
       "      <td>0</td>\n",
       "      <td>0</td>\n",
       "      <td>0</td>\n",
       "      <td>0</td>\n",
       "      <td>0</td>\n",
       "      <td>0</td>\n",
       "      <td>0</td>\n",
       "      <td>0</td>\n",
       "      <td>1</td>\n",
       "      <td>0</td>\n",
       "    </tr>\n",
       "    <tr>\n",
       "      <th>3</th>\n",
       "      <td>60.0</td>\n",
       "      <td>9550</td>\n",
       "      <td>Pave</td>\n",
       "      <td>NA</td>\n",
       "      <td>IR1</td>\n",
       "      <td>Lvl</td>\n",
       "      <td>AllPub</td>\n",
       "      <td>Corner</td>\n",
       "      <td>Gtl</td>\n",
       "      <td>Crawfor</td>\n",
       "      <td>...</td>\n",
       "      <td>0</td>\n",
       "      <td>0</td>\n",
       "      <td>0</td>\n",
       "      <td>0</td>\n",
       "      <td>0</td>\n",
       "      <td>0</td>\n",
       "      <td>0</td>\n",
       "      <td>0</td>\n",
       "      <td>1</td>\n",
       "      <td>0</td>\n",
       "    </tr>\n",
       "    <tr>\n",
       "      <th>4</th>\n",
       "      <td>84.0</td>\n",
       "      <td>14260</td>\n",
       "      <td>Pave</td>\n",
       "      <td>NA</td>\n",
       "      <td>IR1</td>\n",
       "      <td>Lvl</td>\n",
       "      <td>AllPub</td>\n",
       "      <td>FR2</td>\n",
       "      <td>Gtl</td>\n",
       "      <td>NoRidge</td>\n",
       "      <td>...</td>\n",
       "      <td>0</td>\n",
       "      <td>0</td>\n",
       "      <td>0</td>\n",
       "      <td>0</td>\n",
       "      <td>0</td>\n",
       "      <td>0</td>\n",
       "      <td>0</td>\n",
       "      <td>0</td>\n",
       "      <td>1</td>\n",
       "      <td>0</td>\n",
       "    </tr>\n",
       "  </tbody>\n",
       "</table>\n",
       "<p>5 rows × 102 columns</p>\n",
       "</div>"
      ],
      "text/plain": [
       "   LotFrontage  LotArea Street Alley LotShape LandContour Utilities LotConfig  \\\n",
       "0         65.0     8450   Pave    NA      Reg         Lvl    AllPub    Inside   \n",
       "1         80.0     9600   Pave    NA      Reg         Lvl    AllPub       FR2   \n",
       "2         68.0    11250   Pave    NA      IR1         Lvl    AllPub    Inside   \n",
       "3         60.0     9550   Pave    NA      IR1         Lvl    AllPub    Corner   \n",
       "4         84.0    14260   Pave    NA      IR1         Lvl    AllPub       FR2   \n",
       "\n",
       "  LandSlope Neighborhood  ... MSSubClass_150 MSSubClass_160 MSSubClass_180  \\\n",
       "0       Gtl      CollgCr  ...              0              0              0   \n",
       "1       Gtl      Veenker  ...              0              0              0   \n",
       "2       Gtl      CollgCr  ...              0              0              0   \n",
       "3       Gtl      Crawfor  ...              0              0              0   \n",
       "4       Gtl      NoRidge  ...              0              0              0   \n",
       "\n",
       "  MSSubClass_190  MSZoning_1279  MSZoning_C (all)  MSZoning_FV  MSZoning_RH  \\\n",
       "0              0              0                 0            0            0   \n",
       "1              0              0                 0            0            0   \n",
       "2              0              0                 0            0            0   \n",
       "3              0              0                 0            0            0   \n",
       "4              0              0                 0            0            0   \n",
       "\n",
       "  MSZoning_RL MSZoning_RM  \n",
       "0           1           0  \n",
       "1           1           0  \n",
       "2           1           0  \n",
       "3           1           0  \n",
       "4           1           0  \n",
       "\n",
       "[5 rows x 102 columns]"
      ]
     },
     "execution_count": 34,
     "metadata": {},
     "output_type": "execute_result"
    }
   ],
   "source": [
    "data=pd.get_dummies(data=data,columns=['MSSubClass'],prefix='MSSubClass')\n",
    "data=pd.get_dummies(data=data,columns=['MSZoning'],prefix='MSZoning')\n",
    "data.head()"
   ]
  },
  {
   "cell_type": "code",
   "execution_count": 35,
   "metadata": {},
   "outputs": [
    {
     "data": {
      "text/plain": [
       "[(20.708, 118.333], (118.333, 215.667], (215.667, 313.0]]\n",
       "Categories (3, interval[float64]): [(20.708, 118.333] < (118.333, 215.667] < (215.667, 313.0]]"
      ]
     },
     "execution_count": 35,
     "metadata": {},
     "output_type": "execute_result"
    }
   ],
   "source": [
    "create_band('LotFrontage',3)"
   ]
  },
  {
   "cell_type": "code",
   "execution_count": 36,
   "metadata": {},
   "outputs": [
    {
     "data": {
      "text/html": [
       "<div>\n",
       "<style scoped>\n",
       "    .dataframe tbody tr th:only-of-type {\n",
       "        vertical-align: middle;\n",
       "    }\n",
       "\n",
       "    .dataframe tbody tr th {\n",
       "        vertical-align: top;\n",
       "    }\n",
       "\n",
       "    .dataframe thead th {\n",
       "        text-align: right;\n",
       "    }\n",
       "</style>\n",
       "<table border=\"1\" class=\"dataframe\">\n",
       "  <thead>\n",
       "    <tr style=\"text-align: right;\">\n",
       "      <th></th>\n",
       "      <th>LotArea</th>\n",
       "      <th>Street</th>\n",
       "      <th>Alley</th>\n",
       "      <th>LotShape</th>\n",
       "      <th>LandContour</th>\n",
       "      <th>Utilities</th>\n",
       "      <th>LotConfig</th>\n",
       "      <th>LandSlope</th>\n",
       "      <th>Neighborhood</th>\n",
       "      <th>Condition1</th>\n",
       "      <th>...</th>\n",
       "      <th>MSSubClass_190</th>\n",
       "      <th>MSZoning_1279</th>\n",
       "      <th>MSZoning_C (all)</th>\n",
       "      <th>MSZoning_FV</th>\n",
       "      <th>MSZoning_RH</th>\n",
       "      <th>MSZoning_RL</th>\n",
       "      <th>MSZoning_RM</th>\n",
       "      <th>LotFrontage_1.0</th>\n",
       "      <th>LotFrontage_2.0</th>\n",
       "      <th>LotFrontage_3.0</th>\n",
       "    </tr>\n",
       "  </thead>\n",
       "  <tbody>\n",
       "    <tr>\n",
       "      <th>0</th>\n",
       "      <td>8450</td>\n",
       "      <td>Pave</td>\n",
       "      <td>NA</td>\n",
       "      <td>Reg</td>\n",
       "      <td>Lvl</td>\n",
       "      <td>AllPub</td>\n",
       "      <td>Inside</td>\n",
       "      <td>Gtl</td>\n",
       "      <td>CollgCr</td>\n",
       "      <td>Norm</td>\n",
       "      <td>...</td>\n",
       "      <td>0</td>\n",
       "      <td>0</td>\n",
       "      <td>0</td>\n",
       "      <td>0</td>\n",
       "      <td>0</td>\n",
       "      <td>1</td>\n",
       "      <td>0</td>\n",
       "      <td>1</td>\n",
       "      <td>0</td>\n",
       "      <td>0</td>\n",
       "    </tr>\n",
       "    <tr>\n",
       "      <th>1</th>\n",
       "      <td>9600</td>\n",
       "      <td>Pave</td>\n",
       "      <td>NA</td>\n",
       "      <td>Reg</td>\n",
       "      <td>Lvl</td>\n",
       "      <td>AllPub</td>\n",
       "      <td>FR2</td>\n",
       "      <td>Gtl</td>\n",
       "      <td>Veenker</td>\n",
       "      <td>Feedr</td>\n",
       "      <td>...</td>\n",
       "      <td>0</td>\n",
       "      <td>0</td>\n",
       "      <td>0</td>\n",
       "      <td>0</td>\n",
       "      <td>0</td>\n",
       "      <td>1</td>\n",
       "      <td>0</td>\n",
       "      <td>1</td>\n",
       "      <td>0</td>\n",
       "      <td>0</td>\n",
       "    </tr>\n",
       "    <tr>\n",
       "      <th>2</th>\n",
       "      <td>11250</td>\n",
       "      <td>Pave</td>\n",
       "      <td>NA</td>\n",
       "      <td>IR1</td>\n",
       "      <td>Lvl</td>\n",
       "      <td>AllPub</td>\n",
       "      <td>Inside</td>\n",
       "      <td>Gtl</td>\n",
       "      <td>CollgCr</td>\n",
       "      <td>Norm</td>\n",
       "      <td>...</td>\n",
       "      <td>0</td>\n",
       "      <td>0</td>\n",
       "      <td>0</td>\n",
       "      <td>0</td>\n",
       "      <td>0</td>\n",
       "      <td>1</td>\n",
       "      <td>0</td>\n",
       "      <td>1</td>\n",
       "      <td>0</td>\n",
       "      <td>0</td>\n",
       "    </tr>\n",
       "    <tr>\n",
       "      <th>3</th>\n",
       "      <td>9550</td>\n",
       "      <td>Pave</td>\n",
       "      <td>NA</td>\n",
       "      <td>IR1</td>\n",
       "      <td>Lvl</td>\n",
       "      <td>AllPub</td>\n",
       "      <td>Corner</td>\n",
       "      <td>Gtl</td>\n",
       "      <td>Crawfor</td>\n",
       "      <td>Norm</td>\n",
       "      <td>...</td>\n",
       "      <td>0</td>\n",
       "      <td>0</td>\n",
       "      <td>0</td>\n",
       "      <td>0</td>\n",
       "      <td>0</td>\n",
       "      <td>1</td>\n",
       "      <td>0</td>\n",
       "      <td>1</td>\n",
       "      <td>0</td>\n",
       "      <td>0</td>\n",
       "    </tr>\n",
       "    <tr>\n",
       "      <th>4</th>\n",
       "      <td>14260</td>\n",
       "      <td>Pave</td>\n",
       "      <td>NA</td>\n",
       "      <td>IR1</td>\n",
       "      <td>Lvl</td>\n",
       "      <td>AllPub</td>\n",
       "      <td>FR2</td>\n",
       "      <td>Gtl</td>\n",
       "      <td>NoRidge</td>\n",
       "      <td>Norm</td>\n",
       "      <td>...</td>\n",
       "      <td>0</td>\n",
       "      <td>0</td>\n",
       "      <td>0</td>\n",
       "      <td>0</td>\n",
       "      <td>0</td>\n",
       "      <td>1</td>\n",
       "      <td>0</td>\n",
       "      <td>1</td>\n",
       "      <td>0</td>\n",
       "      <td>0</td>\n",
       "    </tr>\n",
       "  </tbody>\n",
       "</table>\n",
       "<p>5 rows × 104 columns</p>\n",
       "</div>"
      ],
      "text/plain": [
       "   LotArea Street Alley LotShape LandContour Utilities LotConfig LandSlope  \\\n",
       "0     8450   Pave    NA      Reg         Lvl    AllPub    Inside       Gtl   \n",
       "1     9600   Pave    NA      Reg         Lvl    AllPub       FR2       Gtl   \n",
       "2    11250   Pave    NA      IR1         Lvl    AllPub    Inside       Gtl   \n",
       "3     9550   Pave    NA      IR1         Lvl    AllPub    Corner       Gtl   \n",
       "4    14260   Pave    NA      IR1         Lvl    AllPub       FR2       Gtl   \n",
       "\n",
       "  Neighborhood Condition1  ... MSSubClass_190 MSZoning_1279 MSZoning_C (all)  \\\n",
       "0      CollgCr       Norm  ...              0             0                0   \n",
       "1      Veenker      Feedr  ...              0             0                0   \n",
       "2      CollgCr       Norm  ...              0             0                0   \n",
       "3      Crawfor       Norm  ...              0             0                0   \n",
       "4      NoRidge       Norm  ...              0             0                0   \n",
       "\n",
       "   MSZoning_FV  MSZoning_RH  MSZoning_RL  MSZoning_RM LotFrontage_1.0  \\\n",
       "0            0            0            1            0               1   \n",
       "1            0            0            1            0               1   \n",
       "2            0            0            1            0               1   \n",
       "3            0            0            1            0               1   \n",
       "4            0            0            1            0               1   \n",
       "\n",
       "  LotFrontage_2.0 LotFrontage_3.0  \n",
       "0               0               0  \n",
       "1               0               0  \n",
       "2               0               0  \n",
       "3               0               0  \n",
       "4               0               0  \n",
       "\n",
       "[5 rows x 104 columns]"
      ]
     },
     "execution_count": 36,
     "metadata": {},
     "output_type": "execute_result"
    }
   ],
   "source": [
    "define_intervals(value=1,feature='LotFrontage',maxval=118.333,minval=20.708)\n",
    "define_intervals(value=2,feature='LotFrontage',maxval=215.667,minval=118.333)\n",
    "define_intervals(value=3,feature='LotFrontage',maxval=313.0,minval=215.667)\n",
    "data=data.drop('LotFrontage_band',1)\n",
    "data=pd.get_dummies(data=data,columns=['LotFrontage'],prefix='LotFrontage')\n",
    "data.head()"
   ]
  },
  {
   "cell_type": "code",
   "execution_count": 37,
   "metadata": {},
   "outputs": [
    {
     "data": {
      "text/plain": [
       "[(1086.055, 44089.0], (44089.0, 86878.0], (129667.0, 172456.0], (172456.0, 215245.0], (86878.0, 129667.0]]\n",
       "Categories (5, interval[float64]): [(1086.055, 44089.0] < (44089.0, 86878.0] < (86878.0, 129667.0] < (129667.0, 172456.0] < (172456.0, 215245.0]]"
      ]
     },
     "execution_count": 37,
     "metadata": {},
     "output_type": "execute_result"
    }
   ],
   "source": [
    "create_band('LotArea',5)"
   ]
  },
  {
   "cell_type": "code",
   "execution_count": 38,
   "metadata": {},
   "outputs": [
    {
     "data": {
      "text/html": [
       "<div>\n",
       "<style scoped>\n",
       "    .dataframe tbody tr th:only-of-type {\n",
       "        vertical-align: middle;\n",
       "    }\n",
       "\n",
       "    .dataframe tbody tr th {\n",
       "        vertical-align: top;\n",
       "    }\n",
       "\n",
       "    .dataframe thead th {\n",
       "        text-align: right;\n",
       "    }\n",
       "</style>\n",
       "<table border=\"1\" class=\"dataframe\">\n",
       "  <thead>\n",
       "    <tr style=\"text-align: right;\">\n",
       "      <th></th>\n",
       "      <th>Street</th>\n",
       "      <th>Alley</th>\n",
       "      <th>LotShape</th>\n",
       "      <th>LandContour</th>\n",
       "      <th>Utilities</th>\n",
       "      <th>LotConfig</th>\n",
       "      <th>LandSlope</th>\n",
       "      <th>Neighborhood</th>\n",
       "      <th>Condition1</th>\n",
       "      <th>Condition2</th>\n",
       "      <th>...</th>\n",
       "      <th>MSZoning_RL</th>\n",
       "      <th>MSZoning_RM</th>\n",
       "      <th>LotFrontage_1.0</th>\n",
       "      <th>LotFrontage_2.0</th>\n",
       "      <th>LotFrontage_3.0</th>\n",
       "      <th>LotArea_1</th>\n",
       "      <th>LotArea_2</th>\n",
       "      <th>LotArea_3</th>\n",
       "      <th>LotArea_4</th>\n",
       "      <th>LotArea_5</th>\n",
       "    </tr>\n",
       "  </thead>\n",
       "  <tbody>\n",
       "    <tr>\n",
       "      <th>0</th>\n",
       "      <td>Pave</td>\n",
       "      <td>NA</td>\n",
       "      <td>Reg</td>\n",
       "      <td>Lvl</td>\n",
       "      <td>AllPub</td>\n",
       "      <td>Inside</td>\n",
       "      <td>Gtl</td>\n",
       "      <td>CollgCr</td>\n",
       "      <td>Norm</td>\n",
       "      <td>Norm</td>\n",
       "      <td>...</td>\n",
       "      <td>1</td>\n",
       "      <td>0</td>\n",
       "      <td>1</td>\n",
       "      <td>0</td>\n",
       "      <td>0</td>\n",
       "      <td>1</td>\n",
       "      <td>0</td>\n",
       "      <td>0</td>\n",
       "      <td>0</td>\n",
       "      <td>0</td>\n",
       "    </tr>\n",
       "    <tr>\n",
       "      <th>1</th>\n",
       "      <td>Pave</td>\n",
       "      <td>NA</td>\n",
       "      <td>Reg</td>\n",
       "      <td>Lvl</td>\n",
       "      <td>AllPub</td>\n",
       "      <td>FR2</td>\n",
       "      <td>Gtl</td>\n",
       "      <td>Veenker</td>\n",
       "      <td>Feedr</td>\n",
       "      <td>Norm</td>\n",
       "      <td>...</td>\n",
       "      <td>1</td>\n",
       "      <td>0</td>\n",
       "      <td>1</td>\n",
       "      <td>0</td>\n",
       "      <td>0</td>\n",
       "      <td>1</td>\n",
       "      <td>0</td>\n",
       "      <td>0</td>\n",
       "      <td>0</td>\n",
       "      <td>0</td>\n",
       "    </tr>\n",
       "    <tr>\n",
       "      <th>2</th>\n",
       "      <td>Pave</td>\n",
       "      <td>NA</td>\n",
       "      <td>IR1</td>\n",
       "      <td>Lvl</td>\n",
       "      <td>AllPub</td>\n",
       "      <td>Inside</td>\n",
       "      <td>Gtl</td>\n",
       "      <td>CollgCr</td>\n",
       "      <td>Norm</td>\n",
       "      <td>Norm</td>\n",
       "      <td>...</td>\n",
       "      <td>1</td>\n",
       "      <td>0</td>\n",
       "      <td>1</td>\n",
       "      <td>0</td>\n",
       "      <td>0</td>\n",
       "      <td>1</td>\n",
       "      <td>0</td>\n",
       "      <td>0</td>\n",
       "      <td>0</td>\n",
       "      <td>0</td>\n",
       "    </tr>\n",
       "    <tr>\n",
       "      <th>3</th>\n",
       "      <td>Pave</td>\n",
       "      <td>NA</td>\n",
       "      <td>IR1</td>\n",
       "      <td>Lvl</td>\n",
       "      <td>AllPub</td>\n",
       "      <td>Corner</td>\n",
       "      <td>Gtl</td>\n",
       "      <td>Crawfor</td>\n",
       "      <td>Norm</td>\n",
       "      <td>Norm</td>\n",
       "      <td>...</td>\n",
       "      <td>1</td>\n",
       "      <td>0</td>\n",
       "      <td>1</td>\n",
       "      <td>0</td>\n",
       "      <td>0</td>\n",
       "      <td>1</td>\n",
       "      <td>0</td>\n",
       "      <td>0</td>\n",
       "      <td>0</td>\n",
       "      <td>0</td>\n",
       "    </tr>\n",
       "    <tr>\n",
       "      <th>4</th>\n",
       "      <td>Pave</td>\n",
       "      <td>NA</td>\n",
       "      <td>IR1</td>\n",
       "      <td>Lvl</td>\n",
       "      <td>AllPub</td>\n",
       "      <td>FR2</td>\n",
       "      <td>Gtl</td>\n",
       "      <td>NoRidge</td>\n",
       "      <td>Norm</td>\n",
       "      <td>Norm</td>\n",
       "      <td>...</td>\n",
       "      <td>1</td>\n",
       "      <td>0</td>\n",
       "      <td>1</td>\n",
       "      <td>0</td>\n",
       "      <td>0</td>\n",
       "      <td>1</td>\n",
       "      <td>0</td>\n",
       "      <td>0</td>\n",
       "      <td>0</td>\n",
       "      <td>0</td>\n",
       "    </tr>\n",
       "  </tbody>\n",
       "</table>\n",
       "<p>5 rows × 108 columns</p>\n",
       "</div>"
      ],
      "text/plain": [
       "  Street Alley LotShape LandContour Utilities LotConfig LandSlope  \\\n",
       "0   Pave    NA      Reg         Lvl    AllPub    Inside       Gtl   \n",
       "1   Pave    NA      Reg         Lvl    AllPub       FR2       Gtl   \n",
       "2   Pave    NA      IR1         Lvl    AllPub    Inside       Gtl   \n",
       "3   Pave    NA      IR1         Lvl    AllPub    Corner       Gtl   \n",
       "4   Pave    NA      IR1         Lvl    AllPub       FR2       Gtl   \n",
       "\n",
       "  Neighborhood Condition1 Condition2  ... MSZoning_RL MSZoning_RM  \\\n",
       "0      CollgCr       Norm       Norm  ...           1           0   \n",
       "1      Veenker      Feedr       Norm  ...           1           0   \n",
       "2      CollgCr       Norm       Norm  ...           1           0   \n",
       "3      Crawfor       Norm       Norm  ...           1           0   \n",
       "4      NoRidge       Norm       Norm  ...           1           0   \n",
       "\n",
       "   LotFrontage_1.0  LotFrontage_2.0  LotFrontage_3.0  LotArea_1 LotArea_2  \\\n",
       "0                1                0                0          1         0   \n",
       "1                1                0                0          1         0   \n",
       "2                1                0                0          1         0   \n",
       "3                1                0                0          1         0   \n",
       "4                1                0                0          1         0   \n",
       "\n",
       "  LotArea_3 LotArea_4 LotArea_5  \n",
       "0         0         0         0  \n",
       "1         0         0         0  \n",
       "2         0         0         0  \n",
       "3         0         0         0  \n",
       "4         0         0         0  \n",
       "\n",
       "[5 rows x 108 columns]"
      ]
     },
     "execution_count": 38,
     "metadata": {},
     "output_type": "execute_result"
    }
   ],
   "source": [
    "define_intervals(value=1,feature='LotArea',minval=1086.055,maxval=44089.)\n",
    "define_intervals(value=2,feature='LotArea',minval=44089.0,maxval=86878.0)\n",
    "define_intervals(value=3,feature='LotArea',minval=86878.0,maxval=129667.0)\n",
    "define_intervals(value=4,feature='LotArea',minval=129667.0,maxval=172456.0)\n",
    "define_intervals(value=5,feature='LotArea',minval=172456.0,maxval=215245.0)\n",
    "data=data.drop('LotArea_band',1)\n",
    "data=pd.get_dummies(data=data,columns=['LotArea'],prefix='LotArea')\n",
    "data.head()"
   ]
  },
  {
   "cell_type": "code",
   "execution_count": 39,
   "metadata": {},
   "outputs": [
    {
     "data": {
      "text/html": [
       "<div>\n",
       "<style scoped>\n",
       "    .dataframe tbody tr th:only-of-type {\n",
       "        vertical-align: middle;\n",
       "    }\n",
       "\n",
       "    .dataframe tbody tr th {\n",
       "        vertical-align: top;\n",
       "    }\n",
       "\n",
       "    .dataframe thead th {\n",
       "        text-align: right;\n",
       "    }\n",
       "</style>\n",
       "<table border=\"1\" class=\"dataframe\">\n",
       "  <thead>\n",
       "    <tr style=\"text-align: right;\">\n",
       "      <th></th>\n",
       "      <th>OverallQual</th>\n",
       "      <th>OverallCond</th>\n",
       "      <th>YearBuilt</th>\n",
       "      <th>YearRemodAdd</th>\n",
       "      <th>RoofStyle</th>\n",
       "      <th>RoofMatl</th>\n",
       "      <th>Exterior1st</th>\n",
       "      <th>Exterior2nd</th>\n",
       "      <th>MasVnrType</th>\n",
       "      <th>MasVnrArea</th>\n",
       "      <th>...</th>\n",
       "      <th>BldgType_Twnhs</th>\n",
       "      <th>BldgType_TwnhsE</th>\n",
       "      <th>HouseStyle_1.5Fin</th>\n",
       "      <th>HouseStyle_1.5Unf</th>\n",
       "      <th>HouseStyle_1Story</th>\n",
       "      <th>HouseStyle_2.5Fin</th>\n",
       "      <th>HouseStyle_2.5Unf</th>\n",
       "      <th>HouseStyle_2Story</th>\n",
       "      <th>HouseStyle_SFoyer</th>\n",
       "      <th>HouseStyle_SLvl</th>\n",
       "    </tr>\n",
       "  </thead>\n",
       "  <tbody>\n",
       "    <tr>\n",
       "      <th>0</th>\n",
       "      <td>7</td>\n",
       "      <td>5</td>\n",
       "      <td>2003</td>\n",
       "      <td>2003</td>\n",
       "      <td>Gable</td>\n",
       "      <td>CompShg</td>\n",
       "      <td>VinylSd</td>\n",
       "      <td>VinylSd</td>\n",
       "      <td>BrkFace</td>\n",
       "      <td>196.0</td>\n",
       "      <td>...</td>\n",
       "      <td>0</td>\n",
       "      <td>0</td>\n",
       "      <td>0</td>\n",
       "      <td>0</td>\n",
       "      <td>0</td>\n",
       "      <td>0</td>\n",
       "      <td>0</td>\n",
       "      <td>1</td>\n",
       "      <td>0</td>\n",
       "      <td>0</td>\n",
       "    </tr>\n",
       "    <tr>\n",
       "      <th>1</th>\n",
       "      <td>6</td>\n",
       "      <td>8</td>\n",
       "      <td>1976</td>\n",
       "      <td>1976</td>\n",
       "      <td>Gable</td>\n",
       "      <td>CompShg</td>\n",
       "      <td>MetalSd</td>\n",
       "      <td>MetalSd</td>\n",
       "      <td>None</td>\n",
       "      <td>0.0</td>\n",
       "      <td>...</td>\n",
       "      <td>0</td>\n",
       "      <td>0</td>\n",
       "      <td>0</td>\n",
       "      <td>0</td>\n",
       "      <td>1</td>\n",
       "      <td>0</td>\n",
       "      <td>0</td>\n",
       "      <td>0</td>\n",
       "      <td>0</td>\n",
       "      <td>0</td>\n",
       "    </tr>\n",
       "    <tr>\n",
       "      <th>2</th>\n",
       "      <td>7</td>\n",
       "      <td>5</td>\n",
       "      <td>2001</td>\n",
       "      <td>2002</td>\n",
       "      <td>Gable</td>\n",
       "      <td>CompShg</td>\n",
       "      <td>VinylSd</td>\n",
       "      <td>VinylSd</td>\n",
       "      <td>BrkFace</td>\n",
       "      <td>162.0</td>\n",
       "      <td>...</td>\n",
       "      <td>0</td>\n",
       "      <td>0</td>\n",
       "      <td>0</td>\n",
       "      <td>0</td>\n",
       "      <td>0</td>\n",
       "      <td>0</td>\n",
       "      <td>0</td>\n",
       "      <td>1</td>\n",
       "      <td>0</td>\n",
       "      <td>0</td>\n",
       "    </tr>\n",
       "    <tr>\n",
       "      <th>3</th>\n",
       "      <td>7</td>\n",
       "      <td>5</td>\n",
       "      <td>1915</td>\n",
       "      <td>1970</td>\n",
       "      <td>Gable</td>\n",
       "      <td>CompShg</td>\n",
       "      <td>Wd Sdng</td>\n",
       "      <td>Wd Shng</td>\n",
       "      <td>None</td>\n",
       "      <td>0.0</td>\n",
       "      <td>...</td>\n",
       "      <td>0</td>\n",
       "      <td>0</td>\n",
       "      <td>0</td>\n",
       "      <td>0</td>\n",
       "      <td>0</td>\n",
       "      <td>0</td>\n",
       "      <td>0</td>\n",
       "      <td>1</td>\n",
       "      <td>0</td>\n",
       "      <td>0</td>\n",
       "    </tr>\n",
       "    <tr>\n",
       "      <th>4</th>\n",
       "      <td>8</td>\n",
       "      <td>5</td>\n",
       "      <td>2000</td>\n",
       "      <td>2000</td>\n",
       "      <td>Gable</td>\n",
       "      <td>CompShg</td>\n",
       "      <td>VinylSd</td>\n",
       "      <td>VinylSd</td>\n",
       "      <td>BrkFace</td>\n",
       "      <td>350.0</td>\n",
       "      <td>...</td>\n",
       "      <td>0</td>\n",
       "      <td>0</td>\n",
       "      <td>0</td>\n",
       "      <td>0</td>\n",
       "      <td>0</td>\n",
       "      <td>0</td>\n",
       "      <td>0</td>\n",
       "      <td>1</td>\n",
       "      <td>0</td>\n",
       "      <td>0</td>\n",
       "    </tr>\n",
       "  </tbody>\n",
       "</table>\n",
       "<p>5 rows × 179 columns</p>\n",
       "</div>"
      ],
      "text/plain": [
       "   OverallQual  OverallCond  YearBuilt  YearRemodAdd RoofStyle RoofMatl  \\\n",
       "0            7            5       2003          2003     Gable  CompShg   \n",
       "1            6            8       1976          1976     Gable  CompShg   \n",
       "2            7            5       2001          2002     Gable  CompShg   \n",
       "3            7            5       1915          1970     Gable  CompShg   \n",
       "4            8            5       2000          2000     Gable  CompShg   \n",
       "\n",
       "  Exterior1st Exterior2nd MasVnrType  MasVnrArea  ... BldgType_Twnhs  \\\n",
       "0     VinylSd     VinylSd    BrkFace       196.0  ...              0   \n",
       "1     MetalSd     MetalSd       None         0.0  ...              0   \n",
       "2     VinylSd     VinylSd    BrkFace       162.0  ...              0   \n",
       "3     Wd Sdng     Wd Shng       None         0.0  ...              0   \n",
       "4     VinylSd     VinylSd    BrkFace       350.0  ...              0   \n",
       "\n",
       "  BldgType_TwnhsE HouseStyle_1.5Fin HouseStyle_1.5Unf HouseStyle_1Story  \\\n",
       "0               0                 0                 0                 0   \n",
       "1               0                 0                 0                 1   \n",
       "2               0                 0                 0                 0   \n",
       "3               0                 0                 0                 0   \n",
       "4               0                 0                 0                 0   \n",
       "\n",
       "  HouseStyle_2.5Fin HouseStyle_2.5Unf  HouseStyle_2Story HouseStyle_SFoyer  \\\n",
       "0                 0                 0                  1                 0   \n",
       "1                 0                 0                  0                 0   \n",
       "2                 0                 0                  1                 0   \n",
       "3                 0                 0                  1                 0   \n",
       "4                 0                 0                  1                 0   \n",
       "\n",
       "   HouseStyle_SLvl  \n",
       "0                0  \n",
       "1                0  \n",
       "2                0  \n",
       "3                0  \n",
       "4                0  \n",
       "\n",
       "[5 rows x 179 columns]"
      ]
     },
     "execution_count": 39,
     "metadata": {},
     "output_type": "execute_result"
    }
   ],
   "source": [
    "data=pd.get_dummies(data=data,columns=['Street','Alley','LotShape','LotShape','LandContour','Utilities','LotConfig','LandSlope','Neighborhood','Condition1','Condition2','BldgType','HouseStyle'])\n",
    "data.head()"
   ]
  },
  {
   "cell_type": "code",
   "execution_count": 40,
   "metadata": {},
   "outputs": [],
   "source": [
    "data['OverallQual']=data['OverallQual'].map({1:'Bad',2:'Bad',3:'Bad',4:'Bad',5:'Avg',6:'Avg',7:'Avg',8:'Good',9:'Good',10:'Good'})\n",
    "data=pd.get_dummies(data=data,columns=['OverallQual'],prefix='OverallQual')"
   ]
  },
  {
   "cell_type": "code",
   "execution_count": 41,
   "metadata": {},
   "outputs": [],
   "source": [
    "data['OverallCond']=data['OverallCond'].map({1:'Bad',2:'Bad',3:'Bad',4:'Bad',5:'Avg',6:'Avg',7:'Avg',8:'Good',9:'Good',10:'Good'})\n",
    "data=pd.get_dummies(data=data,columns=['OverallCond'],prefix='OverallCond')"
   ]
  },
  {
   "cell_type": "code",
   "execution_count": 42,
   "metadata": {
    "scrolled": true
   },
   "outputs": [],
   "source": [
    "data['Remodeled']=0\n",
    "data.loc[data['YearBuilt']!=data['YearRemodAdd'],'Remodeled']=1\n",
    "data=data.drop('YearRemodAdd',1)\n",
    "data=pd.get_dummies(data=data,columns=['Remodeled'])"
   ]
  },
  {
   "cell_type": "code",
   "execution_count": 43,
   "metadata": {},
   "outputs": [
    {
     "data": {
      "text/plain": [
       "[(1982.4, 2010.0], (1954.8, 1982.4], (1899.6, 1927.2], (1927.2, 1954.8], (1871.862, 1899.6]]\n",
       "Categories (5, interval[float64]): [(1871.862, 1899.6] < (1899.6, 1927.2] < (1927.2, 1954.8] < (1954.8, 1982.4] < (1982.4, 2010.0]]"
      ]
     },
     "execution_count": 43,
     "metadata": {},
     "output_type": "execute_result"
    }
   ],
   "source": [
    "create_band('YearBuilt',5)"
   ]
  },
  {
   "cell_type": "code",
   "execution_count": 44,
   "metadata": {},
   "outputs": [],
   "source": [
    "define_intervals(value=1,feature='YearBuilt',minval=1871.862,maxval=1899.6)\n",
    "define_intervals(value=2,feature='YearBuilt',minval=1899.6,maxval=1927.2)\n",
    "define_intervals(value=3,feature='YearBuilt',minval=1927.2,maxval=1954.8)\n",
    "define_intervals(value=4,feature='YearBuilt',minval=1954.8,maxval=1982.4)\n",
    "define_intervals(value=5,feature='YearBuilt',minval=1982.4,maxval=2010.0)\n",
    "data=data.drop('YearBuilt_band',1)\n",
    "data=pd.get_dummies(data=data,columns=['YearBuilt'])"
   ]
  },
  {
   "cell_type": "code",
   "execution_count": 45,
   "metadata": {},
   "outputs": [],
   "source": [
    "data=pd.get_dummies(data=data,columns=['RoofStyle','RoofMatl','Exterior1st','Exterior2nd','MasVnrType','ExterQual','ExterCond','Foundation','BsmtQual','BsmtCond','BsmtExposure','BsmtFinType1','BsmtFinType2','Heating','HeatingQC','CentralAir','Electrical','KitchenQual','Functional','FireplaceQu','GarageType','GarageFinish','GarageQual','GarageCond','PavedDrive','PoolQC','Fence','MiscFeature','SaleType','SaleCondition'])"
   ]
  },
  {
   "cell_type": "code",
   "execution_count": 46,
   "metadata": {},
   "outputs": [
    {
     "data": {
      "text/plain": [
       "[(-1.6, 400.0], (400.0, 800.0], (800.0, 1200.0], (1200.0, 1600.0]]\n",
       "Categories (4, interval[float64]): [(-1.6, 400.0] < (400.0, 800.0] < (800.0, 1200.0] < (1200.0, 1600.0]]"
      ]
     },
     "execution_count": 46,
     "metadata": {},
     "output_type": "execute_result"
    }
   ],
   "source": [
    "create_band('MasVnrArea',4)"
   ]
  },
  {
   "cell_type": "code",
   "execution_count": 47,
   "metadata": {},
   "outputs": [],
   "source": [
    "define_intervals(value=1,feature='MasVnrArea',minval=0,maxval=400.)\n",
    "define_intervals(value=2,feature='MasVnrArea',minval=400.,maxval=800.)\n",
    "define_intervals(value=3,feature='MasVnrArea',minval=800.,maxval=1200.)\n",
    "define_intervals(value=4,feature='MasVnrArea',minval=1200.,maxval=1600.)\n",
    "data=data.drop('MasVnrArea_band',1)\n",
    "data=pd.get_dummies(data=data,columns=['MasVnrArea'])"
   ]
  },
  {
   "cell_type": "code",
   "execution_count": 48,
   "metadata": {},
   "outputs": [],
   "source": [
    "data['BsmtFinSF']=data['BsmtFinSF1']+data['BsmtFinSF2']\n",
    "data=data.drop(['BsmtFinSF1','BsmtFinSF2'],1)"
   ]
  },
  {
   "cell_type": "code",
   "execution_count": 49,
   "metadata": {},
   "outputs": [
    {
     "data": {
      "text/plain": [
       "[(-5.644, 1411.0], (1411.0, 2822.0], (4233.0, 5644.0], (2822.0, 4233.0]]\n",
       "Categories (4, interval[float64]): [(-5.644, 1411.0] < (1411.0, 2822.0] < (2822.0, 4233.0] < (4233.0, 5644.0]]"
      ]
     },
     "execution_count": 49,
     "metadata": {},
     "output_type": "execute_result"
    }
   ],
   "source": [
    "create_band('BsmtFinSF',4)"
   ]
  },
  {
   "cell_type": "code",
   "execution_count": 50,
   "metadata": {},
   "outputs": [],
   "source": [
    "define_intervals(value=1,feature='BsmtFinSF',minval=0,maxval=1411.)\n",
    "define_intervals(value=2,feature='BsmtFinSF',minval=1411.,maxval=2822.)\n",
    "define_intervals(value=3,feature='BsmtFinSF',minval=2822.,maxval=4233.)\n",
    "define_intervals(value=4,feature='BsmtFinSF',minval=4233.,maxval=5644.)\n",
    "data=data.drop('BsmtFinSF_band',1)\n",
    "data=pd.get_dummies(data=data,columns=['BsmtFinSF'])"
   ]
  },
  {
   "cell_type": "code",
   "execution_count": 51,
   "metadata": {},
   "outputs": [
    {
     "data": {
      "text/plain": [
       "[(-2.336, 584.0], (584.0, 1168.0], (1168.0, 1752.0], (1752.0, 2336.0]]\n",
       "Categories (4, interval[float64]): [(-2.336, 584.0] < (584.0, 1168.0] < (1168.0, 1752.0] < (1752.0, 2336.0]]"
      ]
     },
     "execution_count": 51,
     "metadata": {},
     "output_type": "execute_result"
    }
   ],
   "source": [
    "create_band('BsmtUnfSF',4)"
   ]
  },
  {
   "cell_type": "code",
   "execution_count": 52,
   "metadata": {},
   "outputs": [],
   "source": [
    "define_intervals(value=1,feature='BsmtUnfSF',minval=0,maxval=584.)\n",
    "define_intervals(value=2,feature='BsmtUnfSF',minval=584.,maxval=1168.)\n",
    "define_intervals(value=3,feature='BsmtUnfSF',minval=1168.,maxval=1752.)\n",
    "define_intervals(value=4,feature='BsmtUnfSF',minval=1752.,maxval=2336.)\n",
    "data=data.drop('BsmtUnfSF_band',1)\n",
    "data=pd.get_dummies(data=data,columns=['BsmtUnfSF'])"
   ]
  },
  {
   "cell_type": "code",
   "execution_count": 53,
   "metadata": {},
   "outputs": [
    {
     "data": {
      "text/plain": [
       "[(-6.11, 1527.5], (1527.5, 3055.0], (3055.0, 4582.5], (4582.5, 6110.0]]\n",
       "Categories (4, interval[float64]): [(-6.11, 1527.5] < (1527.5, 3055.0] < (3055.0, 4582.5] < (4582.5, 6110.0]]"
      ]
     },
     "execution_count": 53,
     "metadata": {},
     "output_type": "execute_result"
    }
   ],
   "source": [
    "create_band('TotalBsmtSF',4)"
   ]
  },
  {
   "cell_type": "code",
   "execution_count": 54,
   "metadata": {},
   "outputs": [],
   "source": [
    "define_intervals(value=1,feature='TotalBsmtSF',minval=0,maxval=1527.5)\n",
    "define_intervals(value=2,feature='TotalBsmtSF',minval=1527.5,maxval=3055.)\n",
    "define_intervals(value=3,feature='TotalBsmtSF',minval=3055.,maxval=4582.5)\n",
    "define_intervals(value=4,feature='TotalBsmtSF',minval=4582.5,maxval=6110.)\n",
    "data=data.drop('TotalBsmtSF_band',1)\n",
    "data=pd.get_dummies(data=data,columns=['TotalBsmtSF'])"
   ]
  },
  {
   "cell_type": "code",
   "execution_count": 55,
   "metadata": {},
   "outputs": [
    {
     "data": {
      "text/plain": [
       "[(-1.064, 266.0], (266.0, 532.0], (532.0, 798.0], (798.0, 1064.0]]\n",
       "Categories (4, interval[float64]): [(-1.064, 266.0] < (266.0, 532.0] < (532.0, 798.0] < (798.0, 1064.0]]"
      ]
     },
     "execution_count": 55,
     "metadata": {},
     "output_type": "execute_result"
    }
   ],
   "source": [
    "create_band('LowQualFinSF',4)"
   ]
  },
  {
   "cell_type": "code",
   "execution_count": 56,
   "metadata": {},
   "outputs": [],
   "source": [
    "define_intervals(value=1,feature='LowQualFinSF',minval=0,maxval=266.)\n",
    "define_intervals(value=2,feature='LowQualFinSF',minval=266.,maxval=532.)\n",
    "define_intervals(value=3,feature='LowQualFinSF',minval=532.,maxval=798.)\n",
    "define_intervals(value=4,feature='LowQualFinSF',minval=798.,maxval=1064.)\n",
    "data=data.drop('LowQualFinSF_band',1)\n",
    "data=pd.get_dummies(data=data,columns=['LowQualFinSF'])"
   ]
  },
  {
   "cell_type": "code",
   "execution_count": 57,
   "metadata": {},
   "outputs": [
    {
     "data": {
      "text/plain": [
       "[(1395.6, 2457.2], (328.692, 1395.6], (2457.2, 3518.8], (3518.8, 4580.4], (4580.4, 5642.0]]\n",
       "Categories (5, interval[float64]): [(328.692, 1395.6] < (1395.6, 2457.2] < (2457.2, 3518.8] < (3518.8, 4580.4] < (4580.4, 5642.0]]"
      ]
     },
     "execution_count": 57,
     "metadata": {},
     "output_type": "execute_result"
    }
   ],
   "source": [
    "create_band('GrLivArea',5)"
   ]
  },
  {
   "cell_type": "code",
   "execution_count": 58,
   "metadata": {},
   "outputs": [],
   "source": [
    "define_intervals(value=1,feature='GrLivArea',minval=328.692,maxval=1395.6)\n",
    "define_intervals(value=2,feature='GrLivArea',minval=1395.6,maxval=2457.2)\n",
    "define_intervals(value=3,feature='GrLivArea',minval=2457.2,maxval=3518.8)\n",
    "define_intervals(value=4,feature='GrLivArea',minval=3518.8,maxval=4580.4)\n",
    "define_intervals(value=5,feature='GrLivArea',minval=4580.4,maxval=5642.)\n",
    "data=data.drop('GrLivArea_band',1)\n",
    "data=pd.get_dummies(data=data,columns=['GrLivArea'])"
   ]
  },
  {
   "cell_type": "code",
   "execution_count": 59,
   "metadata": {},
   "outputs": [],
   "source": [
    "data['Bath']=data['BsmtFullBath']+data['BsmtHalfBath']*.5+data['FullBath']+data['HalfBath']*.5\n",
    "data=data.drop(['BsmtFullBath','BsmtHalfBath','FullBath','HalfBath'],1)"
   ]
  },
  {
   "cell_type": "code",
   "execution_count": 60,
   "metadata": {},
   "outputs": [],
   "source": [
    "data=pd.get_dummies(data=data,columns=['BedroomAbvGr','KitchenAbvGr','TotRmsAbvGrd'])"
   ]
  },
  {
   "cell_type": "code",
   "execution_count": 61,
   "metadata": {},
   "outputs": [],
   "source": [
    "data.loc[data['GarageYrBlt']==2207.,'GarageYrBlt']=0"
   ]
  },
  {
   "cell_type": "code",
   "execution_count": 62,
   "metadata": {},
   "outputs": [
    {
     "data": {
      "text/plain": [
       "[(2001.0, 2010.0], (1957.0, 1977.0], (1977.0, 2001.0], (-0.001, 1957.0]]\n",
       "Categories (4, interval[float64]): [(-0.001, 1957.0] < (1957.0, 1977.0] < (1977.0, 2001.0] < (2001.0, 2010.0]]"
      ]
     },
     "execution_count": 62,
     "metadata": {},
     "output_type": "execute_result"
    }
   ],
   "source": [
    "data[\"GarageYrBlt_band\"]=pd.qcut(data['GarageYrBlt'],4)\n",
    "data[\"GarageYrBlt_band\"].unique()"
   ]
  },
  {
   "cell_type": "code",
   "execution_count": 63,
   "metadata": {},
   "outputs": [],
   "source": [
    "define_intervals(value=1,feature='GarageYrBlt',minval=0,maxval=1957.)\n",
    "define_intervals(value=2,feature='GarageYrBlt',minval=1957.,maxval=1977.0)\n",
    "define_intervals(value=3,feature='GarageYrBlt',minval=1977.0,maxval=2001.0)\n",
    "define_intervals(value=4,feature='GarageYrBlt',minval=2001.0,maxval=2010.)\n",
    "data=data.drop('GarageYrBlt_band',1)\n",
    "data=pd.get_dummies(data=data,columns=['GarageYrBlt'])"
   ]
  },
  {
   "cell_type": "code",
   "execution_count": 64,
   "metadata": {},
   "outputs": [
    {
     "data": {
      "text/plain": [
       "[(372.0, 744.0], (744.0, 1116.0], (-1.488, 372.0], (1116.0, 1488.0]]\n",
       "Categories (4, interval[float64]): [(-1.488, 372.0] < (372.0, 744.0] < (744.0, 1116.0] < (1116.0, 1488.0]]"
      ]
     },
     "execution_count": 64,
     "metadata": {},
     "output_type": "execute_result"
    }
   ],
   "source": [
    "create_band('GarageArea',4)"
   ]
  },
  {
   "cell_type": "code",
   "execution_count": 65,
   "metadata": {},
   "outputs": [],
   "source": [
    "define_intervals(value=1,feature='GarageArea',minval=0,maxval=372.)\n",
    "define_intervals(value=2,feature='GarageArea',minval=372.,maxval=744.0)\n",
    "define_intervals(value=3,feature='GarageArea',minval=744.0,maxval=1116.0)\n",
    "define_intervals(value=4,feature='GarageArea',minval=1116.0,maxval=1488.)\n",
    "data=data.drop('GarageArea_band',1)\n",
    "data=pd.get_dummies(data=data,columns=['GarageArea'])"
   ]
  },
  {
   "cell_type": "code",
   "execution_count": 66,
   "metadata": {},
   "outputs": [
    {
     "data": {
      "text/plain": [
       "[(-1.424, 356.0], (356.0, 712.0], (712.0, 1068.0], (1068.0, 1424.0]]\n",
       "Categories (4, interval[float64]): [(-1.424, 356.0] < (356.0, 712.0] < (712.0, 1068.0] < (1068.0, 1424.0]]"
      ]
     },
     "execution_count": 66,
     "metadata": {},
     "output_type": "execute_result"
    }
   ],
   "source": [
    "create_band('WoodDeckSF',4)"
   ]
  },
  {
   "cell_type": "code",
   "execution_count": 67,
   "metadata": {},
   "outputs": [],
   "source": [
    "define_intervals(value=1,feature='WoodDeckSF',minval=0,maxval=356.)\n",
    "define_intervals(value=2,feature='WoodDeckSF',minval=356.,maxval=712.0)\n",
    "define_intervals(value=3,feature='WoodDeckSF',minval=712.0,maxval=1068.0)\n",
    "define_intervals(value=4,feature='WoodDeckSF',minval=1068.0,maxval=1424.)\n",
    "data=data.drop('WoodDeckSF_band',1)\n",
    "data=pd.get_dummies(data=data,columns=['WoodDeckSF'])"
   ]
  },
  {
   "cell_type": "code",
   "execution_count": 68,
   "metadata": {},
   "outputs": [
    {
     "data": {
      "text/plain": [
       "[(-0.742, 185.5], (185.5, 371.0], (371.0, 556.5], (556.5, 742.0]]\n",
       "Categories (4, interval[float64]): [(-0.742, 185.5] < (185.5, 371.0] < (371.0, 556.5] < (556.5, 742.0]]"
      ]
     },
     "execution_count": 68,
     "metadata": {},
     "output_type": "execute_result"
    }
   ],
   "source": [
    "create_band('OpenPorchSF',4)"
   ]
  },
  {
   "cell_type": "code",
   "execution_count": 69,
   "metadata": {},
   "outputs": [],
   "source": [
    "define_intervals(value=1,feature='OpenPorchSF',minval=0,maxval=185.5)\n",
    "define_intervals(value=2,feature='OpenPorchSF',minval=185.5,maxval=371.)\n",
    "define_intervals(value=3,feature='OpenPorchSF',minval=371.,maxval=556.5)\n",
    "define_intervals(value=4,feature='OpenPorchSF',minval=556.5,maxval=742.)\n",
    "data=data.drop('OpenPorchSF_band',1)\n",
    "data=pd.get_dummies(data=data,columns=['OpenPorchSF'])"
   ]
  },
  {
   "cell_type": "code",
   "execution_count": 70,
   "metadata": {},
   "outputs": [
    {
     "data": {
      "text/plain": [
       "[(-1.012, 253.0], (253.0, 506.0], (506.0, 759.0], (759.0, 1012.0]]\n",
       "Categories (4, interval[float64]): [(-1.012, 253.0] < (253.0, 506.0] < (506.0, 759.0] < (759.0, 1012.0]]"
      ]
     },
     "execution_count": 70,
     "metadata": {},
     "output_type": "execute_result"
    }
   ],
   "source": [
    "create_band('EnclosedPorch',4)"
   ]
  },
  {
   "cell_type": "code",
   "execution_count": 71,
   "metadata": {},
   "outputs": [],
   "source": [
    "define_intervals(value=1,feature='EnclosedPorch',minval=0,maxval=253.)\n",
    "define_intervals(value=2,feature='EnclosedPorch',minval=253.,maxval=506.)\n",
    "define_intervals(value=3,feature='EnclosedPorch',minval=506.,maxval=759.)\n",
    "define_intervals(value=4,feature='EnclosedPorch',minval=759.,maxval=1012.)\n",
    "data=data.drop('EnclosedPorch_band',1)\n",
    "data=pd.get_dummies(data=data,columns=['EnclosedPorch'])"
   ]
  },
  {
   "cell_type": "code",
   "execution_count": 72,
   "metadata": {},
   "outputs": [
    {
     "data": {
      "text/plain": [
       "[(-0.508, 127.0], (254.0, 381.0], (381.0, 508.0], (127.0, 254.0]]\n",
       "Categories (4, interval[float64]): [(-0.508, 127.0] < (127.0, 254.0] < (254.0, 381.0] < (381.0, 508.0]]"
      ]
     },
     "execution_count": 72,
     "metadata": {},
     "output_type": "execute_result"
    }
   ],
   "source": [
    "create_band('3SsnPorch',4)"
   ]
  },
  {
   "cell_type": "code",
   "execution_count": 73,
   "metadata": {},
   "outputs": [],
   "source": [
    "define_intervals(value=1,feature='3SsnPorch',minval=0,maxval=127.)\n",
    "define_intervals(value=2,feature='3SsnPorch',minval=127.,maxval=254.)\n",
    "define_intervals(value=3,feature='3SsnPorch',minval=254.,maxval=381.)\n",
    "define_intervals(value=4,feature='3SsnPorch',minval=381.,maxval=508.)\n",
    "data=data.drop('3SsnPorch_band',1)\n",
    "data=pd.get_dummies(data=data,columns=['3SsnPorch'])"
   ]
  },
  {
   "cell_type": "code",
   "execution_count": 74,
   "metadata": {},
   "outputs": [
    {
     "data": {
      "text/plain": [
       "[(-0.576, 144.0], (144.0, 288.0], (288.0, 432.0], (432.0, 576.0]]\n",
       "Categories (4, interval[float64]): [(-0.576, 144.0] < (144.0, 288.0] < (288.0, 432.0] < (432.0, 576.0]]"
      ]
     },
     "execution_count": 74,
     "metadata": {},
     "output_type": "execute_result"
    }
   ],
   "source": [
    "create_band('ScreenPorch',4)"
   ]
  },
  {
   "cell_type": "code",
   "execution_count": 75,
   "metadata": {},
   "outputs": [],
   "source": [
    "define_intervals(value=1,feature='ScreenPorch',minval=0,maxval=144.)\n",
    "define_intervals(value=2,feature='ScreenPorch',minval=144.,maxval=288.)\n",
    "define_intervals(value=3,feature='ScreenPorch',minval=288.,maxval=432.)\n",
    "define_intervals(value=4,feature='ScreenPorch',minval=432.,maxval=576.)\n",
    "data=data.drop('ScreenPorch_band',1)\n",
    "data=pd.get_dummies(data=data,columns=['ScreenPorch'])"
   ]
  },
  {
   "cell_type": "code",
   "execution_count": 76,
   "metadata": {},
   "outputs": [
    {
     "data": {
      "text/plain": [
       "[(-0.8, 200.0], (400.0, 600.0], (600.0, 800.0], (200.0, 400.0]]\n",
       "Categories (4, interval[float64]): [(-0.8, 200.0] < (200.0, 400.0] < (400.0, 600.0] < (600.0, 800.0]]"
      ]
     },
     "execution_count": 76,
     "metadata": {},
     "output_type": "execute_result"
    }
   ],
   "source": [
    "create_band('PoolArea',4)"
   ]
  },
  {
   "cell_type": "code",
   "execution_count": 77,
   "metadata": {},
   "outputs": [],
   "source": [
    "define_intervals(value=1,feature='PoolArea',minval=0,maxval=200.)\n",
    "define_intervals(value=2,feature='PoolArea',minval=200.,maxval=400.)\n",
    "define_intervals(value=3,feature='PoolArea',minval=400.,maxval=600.)\n",
    "define_intervals(value=4,feature='PoolArea',minval=600.,maxval=800.)\n",
    "data=data.drop('PoolArea_band',1)\n",
    "data=pd.get_dummies(data=data,columns=['PoolArea'])"
   ]
  },
  {
   "cell_type": "code",
   "execution_count": 78,
   "metadata": {},
   "outputs": [
    {
     "data": {
      "text/plain": [
       "[(-17.0, 4250.0], (12750.0, 17000.0], (4250.0, 8500.0], (8500.0, 12750.0]]\n",
       "Categories (4, interval[float64]): [(-17.0, 4250.0] < (4250.0, 8500.0] < (8500.0, 12750.0] < (12750.0, 17000.0]]"
      ]
     },
     "execution_count": 78,
     "metadata": {},
     "output_type": "execute_result"
    }
   ],
   "source": [
    "create_band('MiscVal',4)"
   ]
  },
  {
   "cell_type": "code",
   "execution_count": 79,
   "metadata": {},
   "outputs": [],
   "source": [
    "define_intervals(value=1,feature='MiscVal',minval=0,maxval=4250.)\n",
    "define_intervals(value=2,feature='MiscVal',minval=4250.,maxval=8500.)\n",
    "define_intervals(value=3,feature='MiscVal',minval=8500.,maxval=12750.)\n",
    "define_intervals(value=4,feature='MiscVal',minval=12750.,maxval=17000.)\n",
    "data=data.drop('MiscVal_band',1)\n",
    "data=pd.get_dummies(data=data,columns=['MiscVal'])"
   ]
  },
  {
   "cell_type": "code",
   "execution_count": 80,
   "metadata": {},
   "outputs": [],
   "source": [
    "define_intervals(value=1,feature='MoSold',minval=0,maxval=3)\n",
    "define_intervals(value=2,feature='MoSold',minval=3,maxval=6)\n",
    "define_intervals(value=3,feature='MoSold',minval=6,maxval=9)\n",
    "define_intervals(value=4,feature='MoSold',minval=9,maxval=12)\n",
    "data=pd.get_dummies(data=data,columns=['MoSold'])"
   ]
  },
  {
   "cell_type": "code",
   "execution_count": 81,
   "metadata": {},
   "outputs": [
    {
     "data": {
      "text/plain": [
       "[(2007.0, 2008.0], (2005.996, 2007.0], (2008.0, 2009.0], (2009.0, 2010.0]]\n",
       "Categories (4, interval[float64]): [(2005.996, 2007.0] < (2007.0, 2008.0] < (2008.0, 2009.0] < (2009.0, 2010.0]]"
      ]
     },
     "execution_count": 81,
     "metadata": {},
     "output_type": "execute_result"
    }
   ],
   "source": [
    "create_band('YrSold',4)"
   ]
  },
  {
   "cell_type": "code",
   "execution_count": 82,
   "metadata": {},
   "outputs": [],
   "source": [
    "define_intervals(value=1,feature='YrSold',minval=2005.,maxval=2007.)\n",
    "define_intervals(value=2,feature='YrSold',minval=2007.,maxval=2008.)\n",
    "define_intervals(value=3,feature='YrSold',minval=2008.,maxval=2009.)\n",
    "define_intervals(value=4,feature='YrSold',minval=2009.,maxval=2010.)\n",
    "data=data.drop('YrSold_band',1)\n",
    "data=pd.get_dummies(data=data,columns=['YrSold'])"
   ]
  },
  {
   "cell_type": "markdown",
   "metadata": {},
   "source": [
    "great we have done Feature Engineering"
   ]
  },
  {
   "cell_type": "markdown",
   "metadata": {},
   "source": [
    "# Feature Scalling"
   ]
  },
  {
   "cell_type": "code",
   "execution_count": 86,
   "metadata": {},
   "outputs": [],
   "source": [
    "from sklearn.preprocessing import StandardScaler"
   ]
  },
  {
   "cell_type": "code",
   "execution_count": 97,
   "metadata": {},
   "outputs": [],
   "source": [
    "x_train=data.iloc[:trainrow]\n",
    "x_test=data.iloc[trainrow:]\n",
    "scaler=StandardScaler()\n",
    "scaler=scaler.fit(x_train)\n",
    "x_tain_scaled=scaler.transform(x_train)\n",
    "x_test_scaled=scaler.transform(x_test)"
   ]
  },
  {
   "cell_type": "markdown",
   "metadata": {},
   "source": [
    "great we have done with feature scalling,\n",
    "now lets do modeling"
   ]
  },
  {
   "cell_type": "code",
   "execution_count": null,
   "metadata": {},
   "outputs": [],
   "source": []
  }
 ],
 "metadata": {
  "kernelspec": {
   "display_name": "Python 3",
   "language": "python",
   "name": "python3"
  },
  "language_info": {
   "codemirror_mode": {
    "name": "ipython",
    "version": 3
   },
   "file_extension": ".py",
   "mimetype": "text/x-python",
   "name": "python",
   "nbconvert_exporter": "python",
   "pygments_lexer": "ipython3",
   "version": "3.7.6"
  }
 },
 "nbformat": 4,
 "nbformat_minor": 4
}
